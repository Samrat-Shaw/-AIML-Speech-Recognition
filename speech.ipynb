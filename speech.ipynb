{
 "cells": [
  {
   "cell_type": "code",
   "execution_count": null,
   "id": "5e779c8f",
   "metadata": {},
   "outputs": [
    {
     "name": "stdout",
     "output_type": "stream",
     "text": [
      "listening...........\n",
      "listening...........\n",
      "listening...........\n",
      "listening...........\n",
      "listening...........\n",
      "listening...........\n",
      "listening...........\n"
     ]
    }
   ],
   "source": [
    "import speech_recognition\n",
    "import pyttsx3\n",
    "\n",
    "recognizer = speech_recognition.Recognizer() \n",
    "\n",
    "while True: \n",
    "    try:\n",
    "        with speech_recognition.Microphone() as source: \n",
    "            print(\"listening...........\")\n",
    "            recognizer.adjust_for_ambient_noise(source, duration=0.2) \n",
    "            audio = recognizer.listen(source) \n",
    "            text = recognizer.recognize_google(audio) \n",
    "            text = text.lower() \n",
    "            print(f\"Recognized {text}\") \n",
    "            \n",
    "            if \"close\" in text:\n",
    "                print(\"Closing the program.\")\n",
    "                break  # Exit the loop and terminate the program\n",
    "    except speech_recognition.UnknownValueError:\n",
    "        recognizer = speech_recognition.Recognizer() \n",
    "        continue\n"
   ]
  },
  {
   "cell_type": "code",
   "execution_count": null,
   "id": "0605db3d",
   "metadata": {},
   "outputs": [],
   "source": [
    "pip install SpeechRecognition"
   ]
  },
  {
   "cell_type": "code",
   "execution_count": null,
   "id": "07339689",
   "metadata": {},
   "outputs": [],
   "source": [
    "pip install pyttsx3"
   ]
  },
  {
   "cell_type": "code",
   "execution_count": null,
   "id": "3441ac12",
   "metadata": {},
   "outputs": [],
   "source": [
    "pip install pyaudio"
   ]
  },
  {
   "cell_type": "code",
   "execution_count": null,
   "id": "7da95f0a",
   "metadata": {},
   "outputs": [],
   "source": []
  }
 ],
 "metadata": {
  "kernelspec": {
   "display_name": "Python 3 (ipykernel)",
   "language": "python",
   "name": "python3"
  },
  "language_info": {
   "codemirror_mode": {
    "name": "ipython",
    "version": 3
   },
   "file_extension": ".py",
   "mimetype": "text/x-python",
   "name": "python",
   "nbconvert_exporter": "python",
   "pygments_lexer": "ipython3",
   "version": "3.10.9"
  }
 },
 "nbformat": 4,
 "nbformat_minor": 5
}
